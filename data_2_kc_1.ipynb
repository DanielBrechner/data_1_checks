{
 "cells": [
  {
   "attachments": {},
   "cell_type": "markdown",
   "metadata": {},
   "source": [
    "# Importing relevant libraries"
   ]
  },
  {
   "cell_type": "code",
   "execution_count": 2,
   "metadata": {},
   "outputs": [],
   "source": [
    "import pandas as pd\n",
    "import requests"
   ]
  },
  {
   "attachments": {},
   "cell_type": "markdown",
   "metadata": {},
   "source": [
    "# Pulling data from an API and loading it into a DataFrame"
   ]
  },
  {
   "cell_type": "code",
   "execution_count": 3,
   "metadata": {},
   "outputs": [
    {
     "data": {
      "text/html": [
       "<div>\n",
       "<style scoped>\n",
       "    .dataframe tbody tr th:only-of-type {\n",
       "        vertical-align: middle;\n",
       "    }\n",
       "\n",
       "    .dataframe tbody tr th {\n",
       "        vertical-align: top;\n",
       "    }\n",
       "\n",
       "    .dataframe thead th {\n",
       "        text-align: right;\n",
       "    }\n",
       "</style>\n",
       "<table border=\"1\" class=\"dataframe\">\n",
       "  <thead>\n",
       "    <tr style=\"text-align: right;\">\n",
       "      <th></th>\n",
       "      <th>ID Nation</th>\n",
       "      <th>Nation</th>\n",
       "      <th>ID Year</th>\n",
       "      <th>Year</th>\n",
       "      <th>Population</th>\n",
       "      <th>Slug Nation</th>\n",
       "    </tr>\n",
       "  </thead>\n",
       "  <tbody>\n",
       "    <tr>\n",
       "      <th>0</th>\n",
       "      <td>01000US</td>\n",
       "      <td>United States</td>\n",
       "      <td>2020</td>\n",
       "      <td>2020</td>\n",
       "      <td>326569308</td>\n",
       "      <td>united-states</td>\n",
       "    </tr>\n",
       "    <tr>\n",
       "      <th>1</th>\n",
       "      <td>01000US</td>\n",
       "      <td>United States</td>\n",
       "      <td>2019</td>\n",
       "      <td>2019</td>\n",
       "      <td>324697795</td>\n",
       "      <td>united-states</td>\n",
       "    </tr>\n",
       "    <tr>\n",
       "      <th>2</th>\n",
       "      <td>01000US</td>\n",
       "      <td>United States</td>\n",
       "      <td>2018</td>\n",
       "      <td>2018</td>\n",
       "      <td>322903030</td>\n",
       "      <td>united-states</td>\n",
       "    </tr>\n",
       "    <tr>\n",
       "      <th>3</th>\n",
       "      <td>01000US</td>\n",
       "      <td>United States</td>\n",
       "      <td>2017</td>\n",
       "      <td>2017</td>\n",
       "      <td>321004407</td>\n",
       "      <td>united-states</td>\n",
       "    </tr>\n",
       "    <tr>\n",
       "      <th>4</th>\n",
       "      <td>01000US</td>\n",
       "      <td>United States</td>\n",
       "      <td>2016</td>\n",
       "      <td>2016</td>\n",
       "      <td>318558162</td>\n",
       "      <td>united-states</td>\n",
       "    </tr>\n",
       "  </tbody>\n",
       "</table>\n",
       "</div>"
      ],
      "text/plain": [
       "  ID Nation         Nation  ID Year  Year  Population    Slug Nation\n",
       "0   01000US  United States     2020  2020   326569308  united-states\n",
       "1   01000US  United States     2019  2019   324697795  united-states\n",
       "2   01000US  United States     2018  2018   322903030  united-states\n",
       "3   01000US  United States     2017  2017   321004407  united-states\n",
       "4   01000US  United States     2016  2016   318558162  united-states"
      ]
     },
     "execution_count": 3,
     "metadata": {},
     "output_type": "execute_result"
    }
   ],
   "source": [
    "r = requests.get('https://datausa.io/api/data?drilldowns=Nation&measures=Population')\n",
    "data = r.json()['data']\n",
    "df = pd.DataFrame(data=data)\n",
    "df.head()\n"
   ]
  },
  {
   "attachments": {},
   "cell_type": "markdown",
   "metadata": {},
   "source": [
    "# Finding two descriptive stats on the dataset "
   ]
  },
  {
   "cell_type": "code",
   "execution_count": 4,
   "metadata": {},
   "outputs": [
    {
     "data": {
      "text/plain": [
       "319781284.5"
      ]
     },
     "execution_count": 4,
     "metadata": {},
     "output_type": "execute_result"
    }
   ],
   "source": [
    "df['Population'].median()"
   ]
  },
  {
   "cell_type": "code",
   "execution_count": 5,
   "metadata": {},
   "outputs": [
    {
     "data": {
      "text/plain": [
       "326569308"
      ]
     },
     "execution_count": 5,
     "metadata": {},
     "output_type": "execute_result"
    }
   ],
   "source": [
    "df['Population'].max()"
   ]
  },
  {
   "attachments": {},
   "cell_type": "markdown",
   "metadata": {},
   "source": [
    "# Selecting row where the year is 2020"
   ]
  },
  {
   "cell_type": "code",
   "execution_count": 6,
   "metadata": {},
   "outputs": [
    {
     "data": {
      "text/html": [
       "<div>\n",
       "<style scoped>\n",
       "    .dataframe tbody tr th:only-of-type {\n",
       "        vertical-align: middle;\n",
       "    }\n",
       "\n",
       "    .dataframe tbody tr th {\n",
       "        vertical-align: top;\n",
       "    }\n",
       "\n",
       "    .dataframe thead th {\n",
       "        text-align: right;\n",
       "    }\n",
       "</style>\n",
       "<table border=\"1\" class=\"dataframe\">\n",
       "  <thead>\n",
       "    <tr style=\"text-align: right;\">\n",
       "      <th></th>\n",
       "      <th>ID Nation</th>\n",
       "      <th>Nation</th>\n",
       "      <th>ID Year</th>\n",
       "      <th>Year</th>\n",
       "      <th>Population</th>\n",
       "      <th>Slug Nation</th>\n",
       "    </tr>\n",
       "  </thead>\n",
       "  <tbody>\n",
       "    <tr>\n",
       "      <th>0</th>\n",
       "      <td>01000US</td>\n",
       "      <td>United States</td>\n",
       "      <td>2020</td>\n",
       "      <td>2020</td>\n",
       "      <td>326569308</td>\n",
       "      <td>united-states</td>\n",
       "    </tr>\n",
       "  </tbody>\n",
       "</table>\n",
       "</div>"
      ],
      "text/plain": [
       "  ID Nation         Nation  ID Year  Year  Population    Slug Nation\n",
       "0   01000US  United States     2020  2020   326569308  united-states"
      ]
     },
     "execution_count": 6,
     "metadata": {},
     "output_type": "execute_result"
    }
   ],
   "source": [
    "df[df['Year'] == '2020']"
   ]
  }
 ],
 "metadata": {
  "kernelspec": {
   "display_name": "base",
   "language": "python",
   "name": "python3"
  },
  "language_info": {
   "codemirror_mode": {
    "name": "ipython",
    "version": 3
   },
   "file_extension": ".py",
   "mimetype": "text/x-python",
   "name": "python",
   "nbconvert_exporter": "python",
   "pygments_lexer": "ipython3",
   "version": "3.9.12"
  },
  "orig_nbformat": 4,
  "vscode": {
   "interpreter": {
    "hash": "48e41faaef565d4431114acc2e889204743c5608456c97ea684d523dd5a73b04"
   }
  }
 },
 "nbformat": 4,
 "nbformat_minor": 2
}
